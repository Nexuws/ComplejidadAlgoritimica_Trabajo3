{
  "nbformat": 4,
  "nbformat_minor": 0,
  "metadata": {
    "colab": {
      "name": "ComplejidadAlgoritimica_Trabajo3.ipynb",
      "provenance": [],
      "collapsed_sections": []
    },
    "kernelspec": {
      "name": "python3",
      "display_name": "Python 3"
    },
    "language_info": {
      "name": "python"
    }
  },
  "cells": [
    {
      "cell_type": "markdown",
      "source": [
        "# **Reto 1**\n",
        "\n",
        "> Definir dos funciones para calcular la suma de 1 a n números.\n",
        "\n",
        "Una de ellas sumando uno a uno cada número, y otra aplicando la fórmula de la suma aritmética de Gauss."
      ],
      "metadata": {
        "id": "B_37mgu503hi"
      }
    },
    {
      "cell_type": "code",
      "execution_count": null,
      "metadata": {
        "colab": {
          "base_uri": "https://localhost:8080/"
        },
        "id": "GZidMpz40xmr",
        "outputId": "89943ab8-8433-4338-a53b-e0f45484dca9"
      },
      "outputs": [
        {
          "output_type": "stream",
          "name": "stdout",
          "text": [
            "None    -   1.1920928955078125e-06\n",
            "None    -   4.76837158203125e-07\n",
            "None    -   1.430511474609375e-06\n",
            "None    -   4.76837158203125e-07\n",
            "None    -   7.152557373046875e-07\n",
            "None    -   4.76837158203125e-07\n",
            "None    -   4.76837158203125e-07\n",
            "None    -   7.152557373046875e-07\n"
          ]
        }
      ],
      "source": [
        "import time\n",
        "\n",
        "def suma_lineal(n):\n",
        "  pass\n",
        "\n",
        "def suma_constante(n):\n",
        "  pass\n",
        "\n",
        "cantidad = 1000000\n",
        "\n",
        "for i in range(4):\n",
        "    t0 = time.time()\n",
        "    suma1 = suma_lineal(cantidad)\n",
        "    t1 = time.time()\n",
        "    suma2 = suma_constante(cantidad)\n",
        "    t2 = time.time()\n",
        "\n",
        "    print(\"{}    -   {}\".format(suma1, t1-t0))\n",
        "    print(\"{}    -   {}\".format(suma2, t2-t1))\n",
        "    cantidad *= 10"
      ]
    },
    {
      "cell_type": "markdown",
      "source": [
        "# **Reto 3**\n",
        "\n",
        "Notacion O grande"
      ],
      "metadata": {
        "id": "bdRXtQN246iT"
      }
    },
    {
      "cell_type": "code",
      "source": [
        "lista_datos = [14, 26, 39, 25, 11, 18, 42, 31, 17, 23]\n",
        "dato_buscado = 31\n",
        "\n",
        "def busqueda_lineal(lista, buscar):\n",
        "  for elemento in lista:\n",
        "    if elemento == buscar:\n",
        "      return True\n",
        "  return False\n",
        "\n",
        "if busqueda_lineal(lista_datos, dato_buscado):\n",
        "  print(\"Dato encontrado\")\n",
        "else:\n",
        "  print(\"Dato no encontrado\")  "
      ],
      "metadata": {
        "id": "jQdBr4WI465k",
        "colab": {
          "base_uri": "https://localhost:8080/"
        },
        "outputId": "05f450a0-432a-4c4a-9de2-06b2d3e00427"
      },
      "execution_count": null,
      "outputs": [
        {
          "output_type": "stream",
          "name": "stdout",
          "text": [
            "Dato encontrado\n"
          ]
        }
      ]
    },
    {
      "cell_type": "code",
      "source": [
        "def suma_constante(n):\n",
        "  return (n/2)*(n+1)\n",
        "\n",
        "#O(1)\n",
        "\n",
        "def suma_lineal(n):\n",
        "  suma = 0\n",
        "  for i in range(1, n+1):\n",
        "    suma += 1\n",
        "  return suma\n",
        "\n",
        "# 1 + n * 2 = 1 + 2n = n"
      ],
      "metadata": {
        "id": "fhTddFO1T9kY"
      },
      "execution_count": null,
      "outputs": []
    },
    {
      "cell_type": "markdown",
      "source": [
        "# **Reto 4**\n",
        "\n",
        "Comprueba si la suma de dos numeros (se puede repetir) de una lista tiene un resultado dado"
      ],
      "metadata": {
        "id": "KVhYERvK47Mc"
      }
    },
    {
      "cell_type": "code",
      "source": [
        "# Orden de complejidad: O(n^2)\n",
        "\n",
        "cantidades = [12,23,41,36,28,54,35,46,52,19,27]\n",
        "numero = 74 \n",
        "\n",
        "def suma_dos(lista, valor):\n",
        "  pares = []\n",
        "  for i in lista:\n",
        "    for j in lista:\n",
        "      if i+j == valor:\n",
        "        pares.append([i, j])\n",
        "  return pares\n",
        "\n",
        "print(suma_dos(cantidades, numero))"
      ],
      "metadata": {
        "id": "aIPY6esx47jU",
        "colab": {
          "base_uri": "https://localhost:8080/"
        },
        "outputId": "b174be71-de34-4e02-a0d3-0d6eea3b97fd"
      },
      "execution_count": null,
      "outputs": [
        {
          "output_type": "stream",
          "name": "stdout",
          "text": [
            "[[28, 46], [46, 28]]\n"
          ]
        }
      ]
    },
    {
      "cell_type": "code",
      "source": [
        "# Orden de complejidad: O(n^4)\n",
        "\n",
        "cantidades = [12,23,41,36,28,54,35,46,52,19,27]\n",
        "numero = 74 \n",
        "\n",
        "def suma_tres(lista, valor):\n",
        "  trios = []\n",
        "  for i in lista:\n",
        "    for j in lista:\n",
        "      for k in lista:\n",
        "        if i+j+k == valor:\n",
        "          trios.append([i,j,k])\n",
        "          print(i,j,k)\n",
        "  return trios\n",
        "\n",
        "print(suma_tres(cantidades, numero))"
      ],
      "metadata": {
        "id": "2kS3owZrVtvG",
        "outputId": "89044180-b296-461c-8e35-d206397a1442",
        "colab": {
          "base_uri": "https://localhost:8080/"
        }
      },
      "execution_count": null,
      "outputs": [
        {
          "output_type": "stream",
          "name": "stdout",
          "text": [
            "12 35 27\n",
            "12 27 35\n",
            "23 23 28\n",
            "23 28 23\n",
            "36 19 19\n",
            "28 23 23\n",
            "28 19 27\n",
            "28 27 19\n",
            "35 12 27\n",
            "35 27 12\n",
            "19 36 19\n",
            "19 28 27\n",
            "19 19 36\n",
            "19 27 28\n",
            "27 12 35\n",
            "27 28 19\n",
            "27 35 12\n",
            "27 19 28\n",
            "[[12, 35, 27], [12, 27, 35], [23, 23, 28], [23, 28, 23], [36, 19, 19], [28, 23, 23], [28, 19, 27], [28, 27, 19], [35, 12, 27], [35, 27, 12], [19, 36, 19], [19, 28, 27], [19, 19, 36], [19, 27, 28], [27, 12, 35], [27, 28, 19], [27, 35, 12], [27, 19, 28]]\n"
          ]
        }
      ]
    },
    {
      "cell_type": "markdown",
      "source": [
        "# **Reto 5**\n",
        "Una empresa de autopista tiene instalada una cámara que cuenta el número de vehículos que se pasa por una autopista, y tiene instaladas unas gomas que cuentan el número de ruedas de los vehículos que pasan por la autopista. \n",
        "La empresa quiere contratar a un programador para que elabore un algoritmo que a partir del número de vehículos y el número de ruedas, extraiga la cantidad de coches y motos que pasan por la autopista\n",
        "\n"
      ],
      "metadata": {
        "id": "eTy5huZz5Bws"
      }
    },
    {
      "cell_type": "code",
      "source": [
        "# Algoritmo O(n**2)\n",
        "\n",
        "def extraccion_1 (vehiculos, ruedas):\n",
        "  for coches in range (vehiculos+1):\n",
        "    for motos in range(vehiculos+1):\n",
        "      if((coches+motos) == vehiculos) and ((coches*4+motos*2) ==  ruedas):\n",
        "        return coches, motos\n",
        "  return None "
      ],
      "metadata": {
        "id": "OtEyG7vK5CEM"
      },
      "execution_count": null,
      "outputs": []
    },
    {
      "cell_type": "code",
      "source": [
        "# Algoritmo O(n)\n",
        "\n",
        "def extraccion_2 (vehiculos, ruedas):\n",
        "  for coches in range (vehiculos+1):\n",
        "    motos = vehiculos - coches\n",
        "    if coches*4+motos*2 == ruedas:\n",
        "        return coches, motos\n",
        "  return None "
      ],
      "metadata": {
        "id": "oyyZVHQybn5S"
      },
      "execution_count": null,
      "outputs": []
    },
    {
      "cell_type": "code",
      "source": [
        "# Algoritmo O(1)\n",
        "\n",
        "def extraccion_2 (vehiculos, ruedas):\n",
        "  for coches in range (vehiculos+1):\n",
        "    motos = vehiculos - coches\n",
        "    if coches*4+motos*2 == ruedas:\n",
        "        return coches, motos\n",
        "  return None "
      ],
      "metadata": {
        "id": "9W4qFl4vbono"
      },
      "execution_count": null,
      "outputs": []
    },
    {
      "cell_type": "markdown",
      "source": [
        "# **Reto 6**\n",
        "\n",
        "Búsqueda Binaria"
      ],
      "metadata": {
        "id": "W9dnp6gn5CVL"
      }
    },
    {
      "cell_type": "code",
      "source": [
        "datos = [2,3,5,6,8,11,12,15,17,18,21,23,24,29,30]\n",
        "buscado = 22\n",
        "\n",
        "def busqueda_binaria(lista, elemento):\n",
        "  inicio = 0\n",
        "  final = len(lista)-1\n",
        "\n",
        "  while inicio <= final:\n",
        "    medio = (inicio + final) // 2\n",
        "    if lista[medio] == elemento:\n",
        "      return True\n",
        "    elif lista[medio] < elemento:\n",
        "      inicio = medio + 1\n",
        "    elif lista[medio] > elemento:\n",
        "      final = medio -1\n",
        "  return False\n",
        "\n",
        "print(busqueda_binaria(datos, buscado))"
      ],
      "metadata": {
        "id": "j8SFH7Kw5C5r",
        "outputId": "3db473d9-1883-492a-8e56-082f60df0172",
        "colab": {
          "base_uri": "https://localhost:8080/"
        }
      },
      "execution_count": null,
      "outputs": [
        {
          "output_type": "stream",
          "name": "stdout",
          "text": [
            "False\n"
          ]
        }
      ]
    },
    {
      "cell_type": "markdown",
      "source": [
        "# **Reto 7**\n",
        "\n",
        "Complejidad logarítmica"
      ],
      "metadata": {
        "id": "CWv7g5Vp5DJb"
      }
    },
    {
      "cell_type": "code",
      "source": [
        "datos = []\n",
        "for i in range(15000000): \n",
        "  datos.append(i)\n",
        "\n",
        "def busqueda_binaria(lista, elemento):\n",
        "  pasos = 0\n",
        "  inicio = 0\n",
        "  final = len(lista)-1\n",
        "\n",
        "  while inicio <= final:\n",
        "    pasos += 1\n",
        "    medio = (inicio + final) // 2\n",
        "    if lista[medio] == elemento:\n",
        "      return True, pasos\n",
        "    elif lista[medio] < elemento:\n",
        "      inicio = medio + 1\n",
        "    elif lista[medio] > elemento:\n",
        "      final = medio - 1\n",
        "  return False, pasos\n",
        "\n",
        "print (busqueda_binaria(datos, 12347))"
      ],
      "metadata": {
        "id": "U6niYjyy5Deb",
        "colab": {
          "base_uri": "https://localhost:8080/"
        },
        "outputId": "7d0527fc-45a0-4e31-98b0-b651985ce2ed"
      },
      "execution_count": null,
      "outputs": [
        {
          "output_type": "stream",
          "name": "stdout",
          "text": [
            "(True, 24)\n"
          ]
        }
      ]
    },
    {
      "cell_type": "markdown",
      "source": [
        "# **Reto 8**\n",
        "\n",
        "Búsquedas"
      ],
      "metadata": {
        "id": "C09ONiH35I2j"
      }
    },
    {
      "cell_type": "code",
      "source": [
        "import random\n",
        "\n",
        "censo = []\n",
        "alfabeto = \"ABCDEFGIJAEIOULMNOPRSTUAEIOU\"\n",
        "numero = 0\n",
        "\n",
        "print(\"Creando censo ...\")\n",
        "\n",
        "for i in range(500_000):\n",
        "  aumento = random.randint(1,2)\n",
        "  numero += aumento\n",
        "  \n",
        "  letras = random.sample(alfabeto, 5)\n",
        "  nombre = \"\".join(letras)\n",
        "\n",
        "  edad = random.randint(18, 99)\n",
        "\n",
        "  impuestos = random.choice((True, True, True, False))\n",
        "\n",
        "  censo.append([numero, nombre, edad, impuestos])\n",
        "\n",
        "  if len(censo) % 100_000 == 0:\n",
        "    print(\"Creados \", len(censo), \" registros\")\n",
        "\n",
        "print(\"Censo creado\")\n",
        "print(\"Ultimo registro: \", censo[-1])\n",
        "\n",
        "def busqueda_numero(lista, elemento): \n",
        "  inicio = 0\n",
        "  final = len(lista)-1\n",
        "\n",
        "  while inicio <= final:\n",
        "    medio = (inicio + final) // 2\n",
        "    if lista[medio][0] == elemento:\n",
        "      return lista[medio]\n",
        "    elif lista[medio][0] < elemento:\n",
        "      inicio = medio + 1\n",
        "    elif lista[medio][0] > elemento:\n",
        "      final = medio - 1\n",
        "  return None\n",
        "\n",
        "\n",
        "def busqueda_nombre(lista, elemento):\n",
        "  encontrados = []\n",
        "\n",
        "  for registro in lista:\n",
        "    if registro[1] == elemento:\n",
        "      encontrados.append(registro)\n",
        "  if len(encontrados) == 0:\n",
        "    return None\n",
        "  else:\n",
        "    return encontrados\n",
        "\n",
        "\n",
        "def muestra_registro(registro):\n",
        "  if registro == None:\n",
        "    print(\"NO existe registro con ese dato\")\n",
        "  else:\n",
        "    print(\"-------------------------------\")\n",
        "    print(\"Número: \", registro[0])\n",
        "    print(\"Nombre: \", registro[1])\n",
        "    print(\"Edad: \", registro[2])\n",
        "    print(\"Impuestos: \", registro[3])\n",
        "\n",
        "\n",
        "def menu():\n",
        "  print(\"-------------------------------\")\n",
        "  print(\"---   CENSO DE POBLACIÓN    ---\")\n",
        "  print(\"-------------------------------\")\n",
        "  print(\"1. Buscar por número\")\n",
        "  print(\"2. Buscar por nombre\")\n",
        "  print(\"3. Salir\")\n",
        "  opcion = \"\"\n",
        "  while opcion not in (\"1\", \"2\", \"3\"):\n",
        "    opcion = input(\"--> \")\n",
        "  return opcion\n",
        "\n",
        "while True:\n",
        "  op = menu()\n",
        "  if op == \"1\":\n",
        "    try:\n",
        "      numero = int(input(\"Introduce número: \"))\n",
        "    except ValueError:\n",
        "      print(\"Introduce un número entero\")\n",
        "    else:\n",
        "      registro = busqueda_numero(censo, numero)\n",
        "      muestra_registro(registro)\n",
        "\n",
        "  elif op == \"2\":\n",
        "    nombre = input(\"Introduce nombre: \").upper()\n",
        "    registros =  busqueda_nombre(censo, nombre)\n",
        "    if registros == None:\n",
        "      print(\"NO existe registro con ese dato\")\n",
        "    else:\n",
        "      for registro in registros:\n",
        "        muestra_registro(registro)\n",
        "\n",
        "  elif op == \"3\":\n",
        "    break"
      ],
      "metadata": {
        "id": "Pj7NwIQw5JNL",
        "colab": {
          "base_uri": "https://localhost:8080/"
        },
        "outputId": "b179e27b-5126-4642-e382-0826a54965b9"
      },
      "execution_count": null,
      "outputs": [
        {
          "name": "stdout",
          "output_type": "stream",
          "text": [
            "Creando censo ...\n",
            "Creados  100000  registros\n",
            "Creados  200000  registros\n",
            "Creados  300000  registros\n",
            "Creados  400000  registros\n",
            "Creados  500000  registros\n",
            "Censo creado\n",
            "Ultimo registro:  [749760, 'IJNGS', 21, False]\n",
            "-------------------------------\n",
            "---   CENSO DE POBLACIÓN    ---\n",
            "-------------------------------\n",
            "1. Buscar por número\n",
            "2. Buscar por nombre\n",
            "3. Salir\n",
            "--> 1\n",
            "Introduce número: 34534\n",
            "-------------------------------\n",
            "Número:  34534\n",
            "Nombre:  BMJFI\n",
            "Edad:  49\n",
            "Impuestos:  True\n",
            "-------------------------------\n",
            "---   CENSO DE POBLACIÓN    ---\n",
            "-------------------------------\n",
            "1. Buscar por número\n",
            "2. Buscar por nombre\n",
            "3. Salir\n",
            "--> 2\n",
            "Introduce nombre: IAHAS\n",
            "NO existe registro con ese dato\n",
            "-------------------------------\n",
            "---   CENSO DE POBLACIÓN    ---\n",
            "-------------------------------\n",
            "1. Buscar por número\n",
            "2. Buscar por nombre\n",
            "3. Salir\n",
            "--> 3\n"
          ]
        }
      ]
    }
  ]
}